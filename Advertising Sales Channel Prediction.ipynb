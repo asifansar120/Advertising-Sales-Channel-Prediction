{
 "cells": [
  {
   "cell_type": "code",
   "execution_count": 25,
   "id": "b827e7d1",
   "metadata": {},
   "outputs": [],
   "source": [
    "import pandas as pd\n",
    "import numpy as np\n",
    "import seaborn as sns\n",
    "import matplotlib.pyplot as plt\n",
    "from sklearn.model_selection import train_test_split"
   ]
  },
  {
   "cell_type": "code",
   "execution_count": 2,
   "id": "04d59d1e",
   "metadata": {},
   "outputs": [],
   "source": [
    "df=pd.read_csv('sales_channel.csv')"
   ]
  },
  {
   "cell_type": "code",
   "execution_count": 3,
   "id": "8be49bc8",
   "metadata": {},
   "outputs": [
    {
     "data": {
      "text/html": [
       "<div>\n",
       "<style scoped>\n",
       "    .dataframe tbody tr th:only-of-type {\n",
       "        vertical-align: middle;\n",
       "    }\n",
       "\n",
       "    .dataframe tbody tr th {\n",
       "        vertical-align: top;\n",
       "    }\n",
       "\n",
       "    .dataframe thead th {\n",
       "        text-align: right;\n",
       "    }\n",
       "</style>\n",
       "<table border=\"1\" class=\"dataframe\">\n",
       "  <thead>\n",
       "    <tr style=\"text-align: right;\">\n",
       "      <th></th>\n",
       "      <th>TV</th>\n",
       "      <th>radio</th>\n",
       "      <th>newspaper</th>\n",
       "      <th>sales</th>\n",
       "    </tr>\n",
       "  </thead>\n",
       "  <tbody>\n",
       "    <tr>\n",
       "      <th>1</th>\n",
       "      <td>230.1</td>\n",
       "      <td>37.8</td>\n",
       "      <td>69.2</td>\n",
       "      <td>22.1</td>\n",
       "    </tr>\n",
       "    <tr>\n",
       "      <th>2</th>\n",
       "      <td>44.5</td>\n",
       "      <td>39.3</td>\n",
       "      <td>45.1</td>\n",
       "      <td>10.4</td>\n",
       "    </tr>\n",
       "    <tr>\n",
       "      <th>3</th>\n",
       "      <td>17.2</td>\n",
       "      <td>45.9</td>\n",
       "      <td>69.3</td>\n",
       "      <td>9.3</td>\n",
       "    </tr>\n",
       "    <tr>\n",
       "      <th>4</th>\n",
       "      <td>151.5</td>\n",
       "      <td>41.3</td>\n",
       "      <td>58.5</td>\n",
       "      <td>18.5</td>\n",
       "    </tr>\n",
       "    <tr>\n",
       "      <th>5</th>\n",
       "      <td>180.8</td>\n",
       "      <td>10.8</td>\n",
       "      <td>58.4</td>\n",
       "      <td>12.9</td>\n",
       "    </tr>\n",
       "    <tr>\n",
       "      <th>...</th>\n",
       "      <td>...</td>\n",
       "      <td>...</td>\n",
       "      <td>...</td>\n",
       "      <td>...</td>\n",
       "    </tr>\n",
       "    <tr>\n",
       "      <th>196</th>\n",
       "      <td>38.2</td>\n",
       "      <td>3.7</td>\n",
       "      <td>13.8</td>\n",
       "      <td>7.6</td>\n",
       "    </tr>\n",
       "    <tr>\n",
       "      <th>197</th>\n",
       "      <td>94.2</td>\n",
       "      <td>4.9</td>\n",
       "      <td>8.1</td>\n",
       "      <td>9.7</td>\n",
       "    </tr>\n",
       "    <tr>\n",
       "      <th>198</th>\n",
       "      <td>177.0</td>\n",
       "      <td>9.3</td>\n",
       "      <td>6.4</td>\n",
       "      <td>12.8</td>\n",
       "    </tr>\n",
       "    <tr>\n",
       "      <th>199</th>\n",
       "      <td>283.6</td>\n",
       "      <td>42.0</td>\n",
       "      <td>66.2</td>\n",
       "      <td>25.5</td>\n",
       "    </tr>\n",
       "    <tr>\n",
       "      <th>200</th>\n",
       "      <td>232.1</td>\n",
       "      <td>8.6</td>\n",
       "      <td>8.7</td>\n",
       "      <td>13.4</td>\n",
       "    </tr>\n",
       "  </tbody>\n",
       "</table>\n",
       "<p>200 rows × 4 columns</p>\n",
       "</div>"
      ],
      "text/plain": [
       "        TV  radio  newspaper  sales\n",
       "1    230.1   37.8       69.2   22.1\n",
       "2     44.5   39.3       45.1   10.4\n",
       "3     17.2   45.9       69.3    9.3\n",
       "4    151.5   41.3       58.5   18.5\n",
       "5    180.8   10.8       58.4   12.9\n",
       "..     ...    ...        ...    ...\n",
       "196   38.2    3.7       13.8    7.6\n",
       "197   94.2    4.9        8.1    9.7\n",
       "198  177.0    9.3        6.4   12.8\n",
       "199  283.6   42.0       66.2   25.5\n",
       "200  232.1    8.6        8.7   13.4\n",
       "\n",
       "[200 rows x 4 columns]"
      ]
     },
     "execution_count": 3,
     "metadata": {},
     "output_type": "execute_result"
    }
   ],
   "source": [
    "df"
   ]
  },
  {
   "cell_type": "markdown",
   "id": "32eb6fd6",
   "metadata": {},
   "source": [
    "# Null-value"
   ]
  },
  {
   "cell_type": "code",
   "execution_count": 4,
   "id": "4d37bce5",
   "metadata": {},
   "outputs": [
    {
     "data": {
      "text/plain": [
       "TV           0\n",
       "radio        0\n",
       "newspaper    0\n",
       "sales        0\n",
       "dtype: int64"
      ]
     },
     "execution_count": 4,
     "metadata": {},
     "output_type": "execute_result"
    }
   ],
   "source": [
    "df.isnull().sum()"
   ]
  },
  {
   "cell_type": "code",
   "execution_count": 5,
   "id": "2c35123c",
   "metadata": {},
   "outputs": [
    {
     "data": {
      "text/plain": [
       "<AxesSubplot:>"
      ]
     },
     "execution_count": 5,
     "metadata": {},
     "output_type": "execute_result"
    },
    {
     "data": {
      "image/png": "[encoded data removed]",
      "text/plain": [
       "<Figure size 432x288 with 2 Axes>"
      ]
     },
     "metadata": {
      "needs_background": "light"
     },
     "output_type": "display_data"
    }
   ],
   "source": [
    "sns.heatmap(df.isnull())"
   ]
  },
  {
   "cell_type": "markdown",
   "id": "c0884f3d",
   "metadata": {},
   "source": [
    "# Remove-out skewness"
   ]
  },
  {
   "cell_type": "code",
   "execution_count": 6,
   "id": "1d9d6e2e",
   "metadata": {},
   "outputs": [
    {
     "data": {
      "text/plain": [
       "TV          -0.069853\n",
       "radio        0.094175\n",
       "newspaper    0.894720\n",
       "sales        0.407571\n",
       "dtype: float64"
      ]
     },
     "execution_count": 6,
     "metadata": {},
     "output_type": "execute_result"
    }
   ],
   "source": [
    "df.skew()"
   ]
  },
  {
   "cell_type": "code",
   "execution_count": 7,
   "id": "cd90597b",
   "metadata": {},
   "outputs": [],
   "source": [
    "import warnings\n",
    "warnings.filterwarnings('ignore')"
   ]
  },
  {
   "cell_type": "code",
   "execution_count": 8,
   "id": "3a79a028",
   "metadata": {},
   "outputs": [],
   "source": [
    "from scipy.stats import boxcox"
   ]
  },
  {
   "cell_type": "code",
   "execution_count": 9,
   "id": "d14add4c",
   "metadata": {},
   "outputs": [],
   "source": [
    "df['newspaper']=boxcox(df['newspaper'],.5)"
   ]
  },
  {
   "cell_type": "code",
   "execution_count": 10,
   "id": "0604414c",
   "metadata": {},
   "outputs": [
    {
     "data": {
      "text/plain": [
       "TV          -0.069853\n",
       "radio        0.094175\n",
       "newspaper    0.062388\n",
       "sales        0.407571\n",
       "dtype: float64"
      ]
     },
     "execution_count": 10,
     "metadata": {},
     "output_type": "execute_result"
    }
   ],
   "source": [
    "df.skew()\n"
   ]
  },
  {
   "cell_type": "code",
   "execution_count": 11,
   "id": "da49952f",
   "metadata": {},
   "outputs": [
    {
     "data": {
      "image/png": "[encoded data removed]",
      "text/plain": [
       "<Figure size 432x288 with 1 Axes>"
      ]
     },
     "metadata": {
      "needs_background": "light"
     },
     "output_type": "display_data"
    }
   ],
   "source": [
    "sns.distplot(df['TV'])\n",
    "plt.show()"
   ]
  },
  {
   "cell_type": "code",
   "execution_count": 12,
   "id": "d47e5604",
   "metadata": {},
   "outputs": [
    {
     "data": {
      "image/png": "[encoded data removed]",
      "text/plain": [
       "<Figure size 432x288 with 1 Axes>"
      ]
     },
     "metadata": {
      "needs_background": "light"
     },
     "output_type": "display_data"
    }
   ],
   "source": [
    "sns.distplot(df['radio'])\n",
    "plt.show()"
   ]
  },
  {
   "cell_type": "code",
   "execution_count": 13,
   "id": "50a45ee6",
   "metadata": {},
   "outputs": [
    {
     "data": {
      "image/png": "[encoded data removed]",
      "text/plain": [
       "<Figure size 432x288 with 1 Axes>"
      ]
     },
     "metadata": {
      "needs_background": "light"
     },
     "output_type": "display_data"
    }
   ],
   "source": [
    "sns.distplot(df['newspaper'])\n",
    "plt.show()"
   ]
  },
  {
   "cell_type": "code",
   "execution_count": 14,
   "id": "c2ad00d0",
   "metadata": {},
   "outputs": [
    {
     "data": {
      "image/png": "[encoded data removed]",
      "text/plain": [
       "<Figure size 432x288 with 1 Axes>"
      ]
     },
     "metadata": {
      "needs_background": "light"
     },
     "output_type": "display_data"
    }
   ],
   "source": [
    "sns.distplot(df['sales'])\n",
    "plt.show()"
   ]
  },
  {
   "cell_type": "markdown",
   "id": "db88d3b7",
   "metadata": {},
   "source": [
    "# Remove-out Outliers"
   ]
  },
  {
   "cell_type": "code",
   "execution_count": 15,
   "id": "721a3aa1",
   "metadata": {},
   "outputs": [
    {
     "data": {
      "image/png": "[encoded data removed]",
      "text/plain": [
       "<Figure size 432x288 with 1 Axes>"
      ]
     },
     "metadata": {
      "needs_background": "light"
     },
     "output_type": "display_data"
    }
   ],
   "source": [
    "plt.boxplot(df['TV'])\n",
    "plt.show()"
   ]
  },
  {
   "cell_type": "code",
   "execution_count": 16,
   "id": "40dc9470",
   "metadata": {},
   "outputs": [
    {
     "data": {
      "image/png": "[encoded data removed]",
      "text/plain": [
       "<Figure size 432x288 with 1 Axes>"
      ]
     },
     "metadata": {
      "needs_background": "light"
     },
     "output_type": "display_data"
    }
   ],
   "source": [
    "plt.boxplot(df['radio'])\n",
    "plt.show()"
   ]
  },
  {
   "cell_type": "code",
   "execution_count": 17,
   "id": "939d4dbd",
   "metadata": {},
   "outputs": [
    {
     "data": {
      "image/png": "[encoded data removed]",
      "text/plain": [
       "<Figure size 432x288 with 4 Axes>"
      ]
     },
     "metadata": {
      "needs_background": "light"
     },
     "output_type": "display_data"
    }
   ],
   "source": [
    "df.plot(kind='box',subplots=True,layout=(2,2))\n",
    "plt.show()"
   ]
  },
  {
   "cell_type": "code",
   "execution_count": 18,
   "id": "d56b201c",
   "metadata": {},
   "outputs": [],
   "source": [
    "from scipy.stats import zscore"
   ]
  },
  {
   "cell_type": "code",
   "execution_count": 19,
   "id": "b08170bd",
   "metadata": {},
   "outputs": [
    {
     "data": {
      "text/plain": [
       "array([[9.69852266e-01, 9.81522472e-01, 1.56309461e+00, 1.55205313e+00],\n",
       "       [1.19737623e+00, 1.08280781e+00, 7.74855194e-01, 6.96046111e-01],\n",
       "       [1.51615499e+00, 1.52846331e+00, 1.56604912e+00, 9.07405869e-01],\n",
       "       [5.20496822e-02, 1.21785493e+00, 1.23357596e+00, 8.60330287e-01],\n",
       "       [3.94182198e-01, 8.41613655e-01, 1.23036007e+00, 2.15683025e-01],\n",
       "       [1.61540845e+00, 1.73103399e+00, 1.73106889e+00, 1.31091086e+00],\n",
       "       [1.04557682e+00, 6.43904671e-01, 1.43678801e-01, 4.27042783e-01],\n",
       "       [3.13436589e-01, 2.47406325e-01, 8.52652825e-01, 1.58039455e-01],\n",
       "       [1.61657614e+00, 1.42906863e+00, 2.03568892e+00, 1.77205942e+00],\n",
       "       [6.16042873e-01, 1.39530685e+00, 2.63332869e-01, 6.57617064e-01],\n",
       "       [9.45155670e-01, 1.17923146e+00, 1.08436840e-01, 1.04190753e+00],\n",
       "       [7.90028350e-01, 4.96973404e-02, 1.54396138e+00, 6.48970529e-01],\n",
       "       [1.43908760e+00, 7.99208859e-01, 1.46436938e+00, 9.26620392e-01],\n",
       "       [5.78501712e-01, 1.05768905e+00, 1.20797302e+00, 8.30547775e-01],\n",
       "       [6.66253447e-01, 6.50657027e-01, 8.07641928e-01, 9.56402904e-01],\n",
       "       [5.64664612e-01, 1.65000572e+00, 1.04903522e+00, 1.60969670e+00],\n",
       "       [9.25304978e-01, 9.00494200e-01, 2.72279688e+00, 2.92541119e-01],\n",
       "       [1.56887609e+00, 1.10306488e+00, 1.14575858e+00, 1.99398717e+00],\n",
       "       [9.08957349e-01, 1.86635121e-01, 4.23879865e-01, 5.23115400e-01],\n",
       "       [3.00679600e-03, 4.29449843e-02, 3.78392733e-01, 1.10963873e-01],\n",
       "       [8.33232798e-01, 2.99534513e-01, 1.06589741e+00, 7.64257669e-01],\n",
       "       [1.05509347e+00, 1.22649795e+00, 1.43678801e-01, 2.92541119e-01],\n",
       "       [1.56286250e+00, 4.97243498e-01, 9.35686184e-01, 1.61834324e+00],\n",
       "       [9.48833887e-01, 4.29719938e-01, 1.04630767e-02, 2.83894584e-01],\n",
       "       [9.89527805e-01, 7.20071247e-01, 4.23879865e-01, 8.30547775e-01],\n",
       "       [1.35285385e+00, 1.33453565e+00, 3.56006466e-01, 3.88613736e-01],\n",
       "       [4.83714657e-02, 4.07572210e-01, 7.81956865e-01, 1.87821967e-01],\n",
       "       [1.08662104e+00, 4.43224650e-01, 1.74306253e-01, 3.60752677e-01],\n",
       "       [1.18820988e+00, 2.59020377e-01, 1.74306253e-01, 9.37188380e-01],\n",
       "       [8.92609721e-01, 4.90491142e-01, 6.13487141e-01, 6.76831588e-01],\n",
       "       [1.70316018e+00, 3.40048650e-01, 7.04546681e-01, 1.41755147e+00],\n",
       "       [3.98677796e-01, 3.95958157e-01, 5.27632526e-01, 4.07828260e-01],\n",
       "       [5.82004775e-01, 1.46958277e+00, 1.65886160e-01, 8.49762299e-01],\n",
       "       [1.38438142e+00, 2.20396901e-01, 2.25808619e+00, 6.48970529e-01],\n",
       "       [5.99520091e-01, 1.47633512e+00, 1.18977295e+00, 8.68976822e-01],\n",
       "       [1.67747105e+00, 1.29402151e+00, 1.09379666e+00, 2.34897549e-01],\n",
       "       [1.39956136e+00, 1.38666383e+00, 1.42788026e+00, 2.18613240e+00],\n",
       "       [8.44734522e-01, 1.76479577e+00, 7.96748948e-01, 1.30178396e-01],\n",
       "       [1.21372386e+00, 2.32010953e-01, 3.85835748e-01, 7.53689682e-01],\n",
       "       [9.45330823e-01, 9.74770116e-01, 2.54214524e-01, 1.43676599e+00],\n",
       "       [6.47570443e-01, 6.50927121e-02, 2.36774660e-01, 4.95254341e-01],\n",
       "       [3.49810063e-01, 6.84418807e-01, 5.31587283e-01, 5.91326959e-01],\n",
       "       [1.71133400e+00, 2.99534513e-01, 1.86769474e+00, 1.28304980e+00],\n",
       "       [6.98948705e-01, 1.00367020e+00, 8.74648181e-04, 2.15683025e-01],\n",
       "       [1.42390765e+00, 1.64487393e-01, 7.08285217e-01, 1.06112206e+00],\n",
       "       [3.27623995e-01, 5.15880000e-02, 2.32397474e-01, 1.68607443e-01],\n",
       "       [6.69581357e-01, 9.02384859e-01, 4.10629831e-01, 6.57617064e-01],\n",
       "       [1.08428567e+00, 1.23135965e+00, 4.12416366e-01, 1.76341289e+00],\n",
       "       [9.35989321e-01, 5.03995854e-01, 9.46143488e-01, 1.49392920e-01],\n",
       "       [9.35814168e-01, 7.80842451e-01, 4.55550447e-01, 8.30547775e-01],\n",
       "       [6.16042873e-01, 1.36154507e+00, 3.65011663e-01, 5.03900877e-01],\n",
       "       [5.44638766e-01, 9.22641928e-01, 1.59442906e+00, 6.38402541e-01],\n",
       "       [8.09879042e-01, 1.24486436e+00, 5.66952663e-01, 1.64812575e+00],\n",
       "       [4.15200577e-01, 1.54872038e+00, 1.23999953e+00, 1.37912242e+00],\n",
       "       [1.35051848e+00, 3.73810430e-01, 5.66662552e-01, 1.18697718e+00],\n",
       "       [6.05533683e-01, 1.76479577e+00, 1.28148863e+00, 1.85948550e+00],\n",
       "       [1.63175608e+00, 3.26543937e-01, 6.36497731e-01, 1.63755776e+00],\n",
       "       [1.26606546e-01, 2.74415749e-01, 5.23966170e-01, 1.58039455e-01],\n",
       "       [7.44488528e-01, 1.77830048e+00, 4.91806608e-01, 1.87870003e+00],\n",
       "       [7.43320840e-01, 4.21076922e-01, 1.02784902e+00, 8.41115763e-01],\n",
       "       [1.09228433e+00, 1.43582099e+00, 2.52678300e-01, 1.13798015e+00],\n",
       "       [1.33417085e+00, 1.31238792e+00, 1.10937324e+00, 1.95555812e+00],\n",
       "       [1.07727954e+00, 5.24252922e-01, 4.18304911e-02, 3.22323631e-01],\n",
       "       [5.17781948e-01, 4.27829278e-01, 1.10225467e+00, 4.32326777e-03],\n",
       "       [1.86158622e-01, 1.31914027e+00, 1.16047828e-01, 7.64257669e-01],\n",
       "       [9.11292725e-01, 9.42898996e-01, 2.06092275e+00, 9.07405869e-01],\n",
       "       [1.34917564e+00, 9.02114765e-02, 1.79806665e+00, 8.68976822e-01],\n",
       "       [9.04082253e-02, 5.91776482e-01, 9.56964653e-01, 1.19610408e-01],\n",
       "       [1.05509347e+00, 2.86029801e-01, 8.96540728e-01, 9.37188380e-01],\n",
       "       [8.14549794e-01, 1.39341619e+00, 3.71205936e-02, 1.59048218e+00],\n",
       "       [6.07869059e-01, 4.95352838e-01, 5.31587283e-01, 8.21901240e-01],\n",
       "       [4.34876116e-01, 6.05281194e-01, 2.41144925e-01, 3.11755643e-01],\n",
       "       [1.40405696e+00, 6.57409383e-01, 3.67170601e-01, 1.00347849e+00],\n",
       "       [2.06009314e-01, 1.18598381e+00, 2.23622209e-01, 5.80758971e-01],\n",
       "       [7.74848409e-01, 9.02114765e-02, 7.47661651e-01, 5.72112435e-01],\n",
       "       [1.51965805e+00, 1.37991148e+00, 2.12194471e+00, 1.02269301e+00],\n",
       "       [1.39588315e+00, 1.46283041e+00, 2.90191276e-01, 1.36855443e+00],\n",
       "       [3.09933525e-01, 3.53553362e-01, 6.74445131e-01, 3.41057791e-02],\n",
       "       [1.65394214e+00, 4.48086346e-01, 1.01980839e+00, 1.67598681e+00],\n",
       "       [3.62479475e-01, 1.05093669e+00, 1.64053001e-01, 5.80758971e-01],\n",
       "       [8.24883830e-01, 2.32010953e-01, 2.05337635e-01, 4.27042783e-01],\n",
       "       [1.08311798e+00, 1.29402151e+00, 4.59600641e-01, 3.30970166e-01],\n",
       "       [8.37728396e-01, 2.00139833e-01, 2.75861785e-01, 5.23115400e-01],\n",
       "       [9.18298852e-01, 1.43393033e+00, 4.06512034e-01, 8.11813615e-02],\n",
       "       [7.76016097e-01, 1.33264499e+00, 3.31377634e-01, 1.47519504e+00],\n",
       "       [5.38975481e-01, 3.28434597e-01, 1.45830743e+00, 2.26251013e-01],\n",
       "       [8.26051518e-01, 2.86029801e-01, 5.60506324e-01, 3.88613736e-01],\n",
       "       [4.24366926e-01, 1.17058844e+00, 1.38174010e+00, 3.79967201e-01],\n",
       "       [6.85928986e-01, 1.50982681e-01, 1.68540016e+00, 2.15683025e-01],\n",
       "       [4.34876116e-01, 1.65675807e+00, 9.97964748e-01, 5.14468865e-01],\n",
       "       [1.48792614e-01, 1.24000266e+00, 1.02784902e+00, 5.42329924e-01],\n",
       "       [1.38303858e+00, 1.46958277e+00, 2.97343158e-01, 1.29169634e+00],\n",
       "       [8.25058983e-01, 6.91171163e-01, 1.24961438e+00, 1.03326100e+00],\n",
       "       [1.21273132e+00, 8.93741844e-01, 1.65371357e+00, 1.57126765e+00],\n",
       "       [4.62900623e-01, 6.25538262e-01, 9.03970725e-01, 4.84686354e-01],\n",
       "       [1.89836839e-01, 5.62876398e-01, 1.04903522e+00, 5.52897912e-01],\n",
       "       [5.90353742e-01, 1.33453565e+00, 1.33301442e+00, 4.46257307e-01],\n",
       "       [4.42057396e-01, 1.52873340e-01, 2.21009887e-01, 2.83894584e-01],\n",
       "       [1.66579418e+00, 1.28537849e+00, 9.91099345e-01, 2.18613240e+00],\n",
       "       [1.38283424e-01, 1.24486436e+00, 8.04014892e-01, 6.10541482e-01],\n",
       "       [8.79940308e-01, 1.28051680e+00, 9.42661222e-01, 4.46257307e-01],\n",
       "       [1.74402926e+00, 8.80237132e-01, 2.41193703e+00, 1.87870003e+00],\n",
       "       [1.55486384e+00, 8.88880147e-01, 2.52678300e-01, 1.49392920e-01],\n",
       "       [4.77088029e-01, 4.09462869e-01, 4.46996354e-01, 1.30178396e-01],\n",
       "       [1.06443498e+00, 7.45190011e-01, 1.39537466e+00, 1.28304980e+00],\n",
       "       [1.06755854e-01, 1.56222509e+00, 1.24961438e+00, 9.94831951e-01],\n",
       "       [1.42507534e+00, 8.28108943e-01, 1.52385811e-01, 1.31091086e+00],\n",
       "       [6.61407543e-01, 1.55061104e+00, 1.58943020e-01, 1.02269301e+00],\n",
       "       [1.56403019e+00, 1.54385868e+00, 3.94500707e-02, 1.67598681e+00],\n",
       "       [1.26527727e+00, 2.45515665e-01, 1.37421317e+00, 1.11011909e+00],\n",
       "       [9.19641692e-01, 1.01717491e+00, 1.16872641e+00, 1.19610408e-01],\n",
       "       [1.10530405e+00, 9.95027184e-01, 1.58943020e-01, 1.49440956e+00],\n",
       "       [3.34630122e-01, 5.31005278e-01, 1.76563543e+00, 1.48912557e-02],\n",
       "       [7.30476274e-01, 1.79882765e-01, 9.18933677e-01, 3.60752677e-01],\n",
       "       [8.03865450e-01, 1.58923451e+00, 3.60828829e-01, 1.10963873e-01],\n",
       "       [8.40063771e-01, 7.92456503e-01, 1.04226804e+00, 2.73326596e-01],\n",
       "       [9.15759131e-02, 6.05281194e-01, 3.94500707e-02, 3.50184689e-01],\n",
       "       [8.24883830e-01, 1.51684926e+00, 6.35702865e-01, 8.88191346e-01],\n",
       "       [2.49213762e-01, 9.20751268e-01, 1.84868232e+00, 3.60752677e-01],\n",
       "       [1.49046586e+00, 4.90491142e-01, 2.05337635e-01, 1.42619800e+00],\n",
       "       [6.70544700e-02, 2.38763309e-01, 8.14884191e-01, 2.83894584e-01],\n",
       "       [1.49747198e+00, 1.05606848e-01, 9.63502716e-01, 1.34933991e+00],\n",
       "       [8.98623313e-01, 1.40881156e+00, 5.85248317e-01, 4.65471830e-01],\n",
       "       [2.79573643e-01, 7.65447079e-01, 7.95865131e-01, 2.26251013e-01],\n",
       "       [9.62846140e-01, 6.10142891e-01, 1.70829607e+00, 1.09090457e+00],\n",
       "       [6.98773552e-01, 7.74090095e-01, 2.49146030e-02, 6.57617064e-01],\n",
       "       [1.62591764e+00, 1.05579839e+00, 9.70422285e-01, 1.42619800e+00],\n",
       "       [7.80511695e-01, 1.57086811e+00, 1.03593300e+00, 1.00347849e+00],\n",
       "       [8.55418865e-01, 1.73778635e+00, 1.64778750e+00, 2.05163074e+00],\n",
       "       [1.02105537e+00, 7.60585383e-01, 7.00803816e-01, 8.30547775e-01],\n",
       "       [1.70882347e+00, 1.10306488e+00, 1.07702861e+00, 2.38692417e+00],\n",
       "       [1.37971067e+00, 1.37504978e+00, 6.97056606e-01, 2.54112072e-01],\n",
       "       [1.61891151e+00, 2.65772733e-01, 1.81483556e+00, 1.59912871e+00],\n",
       "       [8.49580427e-01, 6.91171163e-01, 7.74855194e-01, 1.07169004e+00],\n",
       "       [1.28612050e+00, 1.03554132e+00, 1.45527300e+00, 6.19188018e-01],\n",
       "       [1.15300409e+00, 1.60273923e+00, 1.09379666e+00, 4.65471830e-01],\n",
       "       [1.41806922e+00, 1.06255074e+00, 1.02784902e+00, 8.68976822e-01],\n",
       "       [1.47896413e+00, 3.80562786e-01, 1.27195443e+00, 1.30226433e+00],\n",
       "       [1.21489154e+00, 1.77992105e-01, 3.01025360e-01, 8.49762299e-01],\n",
       "       [4.42057396e-01, 1.39341619e+00, 1.88628219e+00, 1.28304980e+00],\n",
       "       [8.59914463e-01, 4.22967582e-01, 7.61299819e-01, 5.99973494e-01],\n",
       "       [5.44813920e-01, 8.19465927e-01, 1.74806889e+00, 9.94831951e-01],\n",
       "       [8.57754241e-01, 6.70914095e-01, 4.99804564e-01, 1.16776266e+00],\n",
       "       [4.95595880e-01, 1.18598381e+00, 3.56639928e-01, 6.96046111e-01],\n",
       "       [5.93681653e-01, 5.71519414e-01, 5.39481500e-01, 5.03900877e-01],\n",
       "       [7.87313476e-02, 1.44257334e+00, 1.05223385e+00, 7.15260635e-01],\n",
       "       [1.08662104e+00, 1.07794612e+00, 1.07702861e+00, 1.58039455e-01],\n",
       "       [1.12281936e+00, 1.73778635e+00, 7.45435707e-01, 2.18613240e+00],\n",
       "       [1.27327593e+00, 1.15033137e+00, 8.31134637e-01, 5.99973494e-01],\n",
       "       [1.19504085e+00, 1.71239749e-01, 2.95601744e-01, 7.53689682e-01],\n",
       "       [1.56070228e+00, 6.32290618e-01, 4.63645352e-01, 3.99181724e-01],\n",
       "       [3.04095087e-01, 1.00367020e+00, 9.04123071e-01, 4.65471830e-01],\n",
       "       [5.90353742e-01, 2.43084817e-03, 6.74445131e-01, 4.95254341e-01],\n",
       "       [2.83251860e-01, 1.10981724e+00, 4.91806608e-01, 9.56402904e-01],\n",
       "       [4.75920341e-01, 1.46120984e-01, 1.01181041e+00, 3.03109107e-01],\n",
       "       [1.66912209e+00, 7.87594807e-01, 1.35343306e+00, 2.07949180e+00],\n",
       "       [6.20538471e-01, 1.36640677e+00, 9.66964214e-01, 2.45465537e-01],\n",
       "       [3.21989902e-02, 1.48308748e+00, 1.03444101e-01, 7.53689682e-01],\n",
       "       [1.58037782e+00, 9.20751268e-01, 7.78514222e-01, 1.29169634e+00],\n",
       "       [1.79152496e-01, 3.28434597e-01, 3.65011663e-01, 2.15683025e-01],\n",
       "       [2.97264113e-01, 3.48691665e-01, 1.97126837e-01, 7.25348259e-02],\n",
       "       [7.16288868e-01, 8.46475352e-01, 9.25197207e-01, 1.38824932e-01],\n",
       "       [4.82926468e-01, 3.48691665e-01, 3.94500707e-02, 1.68607443e-01],\n",
       "       [1.92172214e-01, 9.13998912e-01, 1.18977295e+00, 7.64257669e-01],\n",
       "       [3.48467222e-01, 5.78271770e-01, 1.38474492e+00, 4.07828260e-01],\n",
       "       [1.02123053e+00, 1.34128800e+00, 2.00075071e+00, 4.07828260e-01],\n",
       "       [1.50798117e+00, 9.68017760e-01, 2.42073402e-01, 1.15719467e+00],\n",
       "       [6.97781017e-01, 1.21974559e+00, 3.61581340e-01, 3.50184689e-01],\n",
       "       [7.98202165e-01, 2.26879163e-02, 1.20453312e+00, 5.91326959e-01],\n",
       "       [1.60273904e+00, 8.55118367e-01, 1.28343326e+00, 1.87821967e-01],\n",
       "       [1.13315340e+00, 7.87594807e-01, 4.18140328e-01, 1.08033658e+00],\n",
       "       [2.03849092e-01, 1.59625696e-01, 8.58012435e-01, 9.17493494e-02],\n",
       "       [1.48813048e+00, 2.13644545e-01, 4.99971899e-01, 1.23405277e+00],\n",
       "       [2.49388915e-01, 1.09145083e+00, 7.68158551e-01, 4.46257307e-01],\n",
       "       [8.79940308e-01, 1.34128800e+00, 7.47661651e-01, 4.84686354e-01],\n",
       "       [1.51633014e+00, 1.73103399e+00, 6.51745599e-01, 2.49356478e+00],\n",
       "       [1.18353913e+00, 4.68343414e-01, 3.11912423e-01, 1.18697718e+00],\n",
       "       [2.70407294e-01, 1.04418434e+00, 3.89982728e-01, 4.46257307e-01],\n",
       "       [1.51399477e+00, 1.41556392e+00, 1.33556727e-01, 4.27042783e-01],\n",
       "       [2.16693657e-01, 8.95632503e-01, 4.64503706e-01, 2.73326596e-01],\n",
       "       [1.11601758e-01, 1.39530685e+00, 1.11076317e+00, 6.76831588e-01],\n",
       "       [8.34400486e-01, 1.20624088e+00, 4.65317703e-02, 3.50184689e-01],\n",
       "       [1.06075676e+00, 1.18598381e+00, 1.52385811e-01, 1.02269301e+00],\n",
       "       [1.64127273e+00, 1.33264499e+00, 1.63923092e+00, 2.33984859e+00],\n",
       "       [1.24659427e+00, 1.32616272e-01, 1.65886160e-01, 6.87399576e-01],\n",
       "       [6.76762637e-01, 1.47444446e+00, 3.50445868e-01, 1.64812575e+00],\n",
       "       [8.80728498e-02, 1.42906863e+00, 8.67752879e-03, 7.15260635e-01],\n",
       "       [5.14454038e-01, 3.67058074e-01, 4.29635106e-01, 6.29756005e-01],\n",
       "       [1.62258973e+00, 6.32290618e-01, 1.58155966e+00, 3.60752677e-01],\n",
       "       [1.49863967e+00, 7.53833027e-01, 1.48755990e-01, 1.40698348e+00],\n",
       "       [1.25576062e+00, 1.20435022e+00, 1.34317973e+00, 6.19188018e-01],\n",
       "       [8.35393020e-01, 8.41613655e-01, 1.32293490e+00, 7.92118728e-01],\n",
       "       [1.51615499e+00, 1.29402151e+00, 2.36774660e-01, 1.56069967e+00],\n",
       "       [2.30705910e-01, 1.26512143e+00, 1.59442906e+00, 1.07169004e+00],\n",
       "       [3.10313024e-02, 8.32970639e-01, 1.32293490e+00, 6.29756005e-01],\n",
       "       [1.27094056e+00, 1.32103093e+00, 7.00729744e-01, 1.23405277e+00],\n",
       "       [6.17035408e-01, 1.24000266e+00, 1.12793536e+00, 8.30547775e-01],\n",
       "       [3.49810063e-01, 9.42898996e-01, 1.28343326e+00, 2.34897549e-01],\n",
       "       [1.59456522e+00, 1.26512143e+00, 1.47344507e+00, 2.20534693e+00],\n",
       "       [9.93206022e-01, 9.90165488e-01, 1.07702861e+00, 1.19610408e-01]])"
      ]
     },
     "execution_count": 19,
     "metadata": {},
     "output_type": "execute_result"
    }
   ],
   "source": [
    "z=np.abs(zscore(df))\n",
    "z"
   ]
  },
  {
   "cell_type": "code",
   "execution_count": 20,
   "id": "ce543fcb",
   "metadata": {},
   "outputs": [
    {
     "name": "stdout",
     "output_type": "stream",
     "text": [
      "(array([], dtype=int64), array([], dtype=int64))\n"
     ]
    }
   ],
   "source": [
    "threashold=3\n",
    "print(np.where(z>3))"
   ]
  },
  {
   "cell_type": "markdown",
   "id": "5d7311fc",
   "metadata": {},
   "source": [
    "# correlation"
   ]
  },
  {
   "cell_type": "code",
   "execution_count": 21,
   "id": "c93e5593",
   "metadata": {},
   "outputs": [
    {
     "data": {
      "text/html": [
       "<div>\n",
       "<style scoped>\n",
       "    .dataframe tbody tr th:only-of-type {\n",
       "        vertical-align: middle;\n",
       "    }\n",
       "\n",
       "    .dataframe tbody tr th {\n",
       "        vertical-align: top;\n",
       "    }\n",
       "\n",
       "    .dataframe thead th {\n",
       "        text-align: right;\n",
       "    }\n",
       "</style>\n",
       "<table border=\"1\" class=\"dataframe\">\n",
       "  <thead>\n",
       "    <tr style=\"text-align: right;\">\n",
       "      <th></th>\n",
       "      <th>TV</th>\n",
       "      <th>radio</th>\n",
       "      <th>newspaper</th>\n",
       "      <th>sales</th>\n",
       "    </tr>\n",
       "  </thead>\n",
       "  <tbody>\n",
       "    <tr>\n",
       "      <th>TV</th>\n",
       "      <td>1.000000</td>\n",
       "      <td>0.054809</td>\n",
       "      <td>0.045976</td>\n",
       "      <td>0.782224</td>\n",
       "    </tr>\n",
       "    <tr>\n",
       "      <th>radio</th>\n",
       "      <td>0.054809</td>\n",
       "      <td>1.000000</td>\n",
       "      <td>0.313430</td>\n",
       "      <td>0.576223</td>\n",
       "    </tr>\n",
       "    <tr>\n",
       "      <th>newspaper</th>\n",
       "      <td>0.045976</td>\n",
       "      <td>0.313430</td>\n",
       "      <td>1.000000</td>\n",
       "      <td>0.204725</td>\n",
       "    </tr>\n",
       "    <tr>\n",
       "      <th>sales</th>\n",
       "      <td>0.782224</td>\n",
       "      <td>0.576223</td>\n",
       "      <td>0.204725</td>\n",
       "      <td>1.000000</td>\n",
       "    </tr>\n",
       "  </tbody>\n",
       "</table>\n",
       "</div>"
      ],
      "text/plain": [
       "                 TV     radio  newspaper     sales\n",
       "TV         1.000000  0.054809   0.045976  0.782224\n",
       "radio      0.054809  1.000000   0.313430  0.576223\n",
       "newspaper  0.045976  0.313430   1.000000  0.204725\n",
       "sales      0.782224  0.576223   0.204725  1.000000"
      ]
     },
     "execution_count": 21,
     "metadata": {},
     "output_type": "execute_result"
    }
   ],
   "source": [
    "corr=df.corr()\n",
    "corr"
   ]
  },
  {
   "cell_type": "code",
   "execution_count": 22,
   "id": "0cbca198",
   "metadata": {},
   "outputs": [
    {
     "data": {
      "text/plain": [
       "<AxesSubplot:>"
      ]
     },
     "execution_count": 22,
     "metadata": {},
     "output_type": "execute_result"
    },
    {
     "data": {
      "image/png": "[encoded data removed]",
      "text/plain": [
       "<Figure size 576x504 with 2 Axes>"
      ]
     },
     "metadata": {
      "needs_background": "light"
     },
     "output_type": "display_data"
    }
   ],
   "source": [
    "figure=plt.figure(figsize=(8,7))\n",
    "sns.heatmap(corr,annot=True,cmap='coolwarm')"
   ]
  },
  {
   "cell_type": "code",
   "execution_count": 26,
   "id": "986c1783",
   "metadata": {},
   "outputs": [],
   "source": [
    "x=df.drop('sales',axis=1)\n",
    "y=df['sales']"
   ]
  },
  {
   "cell_type": "markdown",
   "id": "ca772f24",
   "metadata": {},
   "source": [
    "# Train_Test_Split"
   ]
  },
  {
   "cell_type": "code",
   "execution_count": 27,
   "id": "4949e385",
   "metadata": {},
   "outputs": [],
   "source": [
    "x_train,x_test,y_train,y_test=train_test_split(x,y,test_size=.2,random_state=22)"
   ]
  },
  {
   "cell_type": "code",
   "execution_count": 28,
   "id": "e47e1688",
   "metadata": {},
   "outputs": [
    {
     "data": {
      "text/plain": [
       "((160, 3), (40, 3))"
      ]
     },
     "execution_count": 28,
     "metadata": {},
     "output_type": "execute_result"
    }
   ],
   "source": [
    "x_train.shape,x_test.shape"
   ]
  },
  {
   "cell_type": "markdown",
   "id": "e07c508c",
   "metadata": {},
   "source": [
    "# Linear Regression Algorithm"
   ]
  },
  {
   "cell_type": "code",
   "execution_count": 29,
   "id": "03b21eb9",
   "metadata": {},
   "outputs": [],
   "source": [
    "from sklearn.linear_model import LinearRegression\n",
    "from sklearn.metrics import mean_squared_error,mean_absolute_error,r2_score"
   ]
  },
  {
   "cell_type": "code",
   "execution_count": 30,
   "id": "843b36b5",
   "metadata": {},
   "outputs": [],
   "source": [
    "lr=LinearRegression()"
   ]
  },
  {
   "cell_type": "code",
   "execution_count": 31,
   "id": "2a967974",
   "metadata": {},
   "outputs": [
    {
     "data": {
      "text/plain": [
       "LinearRegression()"
      ]
     },
     "execution_count": 31,
     "metadata": {},
     "output_type": "execute_result"
    }
   ],
   "source": [
    "lr.fit(x_train,y_train)"
   ]
  },
  {
   "cell_type": "code",
   "execution_count": 32,
   "id": "5dd991f3",
   "metadata": {},
   "outputs": [],
   "source": [
    "pred=lr.predict(x_test)"
   ]
  },
  {
   "cell_type": "code",
   "execution_count": 34,
   "id": "02c6a71c",
   "metadata": {},
   "outputs": [
    {
     "name": "stdout",
     "output_type": "stream",
     "text": [
      "mean squared error 2.4818110037902583\n",
      "mean absolute error 1.1799005594843877\n",
      "r2 score 0.9029013556207331\n"
     ]
    }
   ],
   "source": [
    "print('mean squared error',mean_squared_error(y_test,pred))\n",
    "print('mean absolute error',mean_absolute_error(y_test,pred))\n",
    "print('r2 score',r2_score(pred,y_test))"
   ]
  },
  {
   "cell_type": "code",
   "execution_count": 36,
   "id": "e6182afe",
   "metadata": {},
   "outputs": [],
   "source": [
    "from sklearn.model_selection import cross_val_score"
   ]
  },
  {
   "cell_type": "code",
   "execution_count": 37,
   "id": "41175ec4",
   "metadata": {},
   "outputs": [],
   "source": [
    "score=cross_val_score(lr,x,y,cv=5)"
   ]
  },
  {
   "cell_type": "code",
   "execution_count": 39,
   "id": "80499f2d",
   "metadata": {},
   "outputs": [
    {
     "name": "stdout",
     "output_type": "stream",
     "text": [
      "[0.87809171 0.91744186 0.92982697 0.81591747 0.89538764]\n",
      "0.8873331295445761\n",
      "0.03990673561316692\n"
     ]
    }
   ],
   "source": [
    "print(score)\n",
    "print(score.mean())\n",
    "print(score.std())\n"
   ]
  },
  {
   "cell_type": "markdown",
   "id": "50f8a5c1",
   "metadata": {},
   "source": [
    "# Ridge"
   ]
  },
  {
   "cell_type": "code",
   "execution_count": 40,
   "id": "84ad6c9f",
   "metadata": {},
   "outputs": [],
   "source": [
    "from sklearn.linear_model import Ridge"
   ]
  },
  {
   "cell_type": "code",
   "execution_count": 41,
   "id": "9e17513f",
   "metadata": {},
   "outputs": [],
   "source": [
    "rd=Ridge()"
   ]
  },
  {
   "cell_type": "code",
   "execution_count": 42,
   "id": "dd0dc10a",
   "metadata": {},
   "outputs": [
    {
     "data": {
      "text/plain": [
       "Ridge()"
      ]
     },
     "execution_count": 42,
     "metadata": {},
     "output_type": "execute_result"
    }
   ],
   "source": [
    "rd.fit(x_train,y_train)"
   ]
  },
  {
   "cell_type": "code",
   "execution_count": 43,
   "id": "6f6fb38a",
   "metadata": {},
   "outputs": [],
   "source": [
    "pred=rd.predict(x_test)"
   ]
  },
  {
   "cell_type": "code",
   "execution_count": 44,
   "id": "555bdf19",
   "metadata": {},
   "outputs": [
    {
     "name": "stdout",
     "output_type": "stream",
     "text": [
      "mean squared error 2.481748462109641\n",
      "mean absolute error 1.1798931449403514\n",
      "r2 score 0.902901639692439\n"
     ]
    }
   ],
   "source": [
    "print('mean squared error',mean_squared_error(y_test,pred))\n",
    "print('mean absolute error',mean_absolute_error(y_test,pred))\n",
    "print('r2 score',r2_score(pred,y_test))"
   ]
  },
  {
   "cell_type": "code",
   "execution_count": 45,
   "id": "b6409cf7",
   "metadata": {},
   "outputs": [
    {
     "name": "stdout",
     "output_type": "stream",
     "text": [
      "[0.87809339 0.91744187 0.92982721 0.81592601 0.895384  ]\n",
      "0.8873344978853581\n",
      "0.039903506107037585\n"
     ]
    }
   ],
   "source": [
    "score=cross_val_score(rd,x,y,cv=5)\n",
    "print(score)\n",
    "print(score.mean())\n",
    "print(score.std())"
   ]
  },
  {
   "cell_type": "markdown",
   "id": "a02b625c",
   "metadata": {},
   "source": [
    "# Lasso"
   ]
  },
  {
   "cell_type": "code",
   "execution_count": 46,
   "id": "9dcf24d4",
   "metadata": {},
   "outputs": [],
   "source": [
    "from sklearn.linear_model import Lasso"
   ]
  },
  {
   "cell_type": "code",
   "execution_count": 47,
   "id": "e1349263",
   "metadata": {},
   "outputs": [],
   "source": [
    "ls=Lasso()"
   ]
  },
  {
   "cell_type": "code",
   "execution_count": 48,
   "id": "9663459b",
   "metadata": {},
   "outputs": [
    {
     "data": {
      "text/plain": [
       "Lasso()"
      ]
     },
     "execution_count": 48,
     "metadata": {},
     "output_type": "execute_result"
    }
   ],
   "source": [
    "ls.fit(x_train,y_train)"
   ]
  },
  {
   "cell_type": "code",
   "execution_count": 49,
   "id": "34c660f0",
   "metadata": {},
   "outputs": [],
   "source": [
    "pred=ls.predict(x_test)"
   ]
  },
  {
   "cell_type": "code",
   "execution_count": 50,
   "id": "8e6b862f",
   "metadata": {},
   "outputs": [
    {
     "name": "stdout",
     "output_type": "stream",
     "text": [
      "mean_squared_error 2.4172397945943147\n",
      "mean_absolute_error 1.164772492952399\n",
      "r2_score 0.9199167841812638\n"
     ]
    }
   ],
   "source": [
    "print('mean_squared_error',mean_squared_error(y_test,pred))\n",
    "print('mean_absolute_error',mean_absolute_error(y_test,pred))\n",
    "print('r2_score',r2_score(y_test,pred))"
   ]
  },
  {
   "cell_type": "code",
   "execution_count": 51,
   "id": "16ffb7ff",
   "metadata": {},
   "outputs": [
    {
     "name": "stdout",
     "output_type": "stream",
     "text": [
      "[0.88159827 0.91792464 0.93002502 0.82370663 0.89241677]\n",
      "0.8891342630412222\n",
      "0.037011568448919716\n"
     ]
    }
   ],
   "source": [
    "score=cross_val_score(ls,x,y,cv=5)\n",
    "print(score)\n",
    "print(score.mean())\n",
    "print(score.std())"
   ]
  },
  {
   "cell_type": "code",
   "execution_count": 52,
   "id": "b74fc502",
   "metadata": {},
   "outputs": [],
   "source": [
    "from sklearn.linear_model import ElasticNet"
   ]
  },
  {
   "cell_type": "code",
   "execution_count": 53,
   "id": "d1c4c3b8",
   "metadata": {},
   "outputs": [],
   "source": [
    "en=ElasticNet()"
   ]
  },
  {
   "cell_type": "code",
   "execution_count": 54,
   "id": "28bc779a",
   "metadata": {},
   "outputs": [
    {
     "data": {
      "text/plain": [
       "ElasticNet()"
      ]
     },
     "execution_count": 54,
     "metadata": {},
     "output_type": "execute_result"
    }
   ],
   "source": [
    "en.fit(x_train,y_train)"
   ]
  },
  {
   "cell_type": "code",
   "execution_count": 55,
   "id": "43670cea",
   "metadata": {},
   "outputs": [],
   "source": [
    "pred=en.predict(x_test)"
   ]
  },
  {
   "cell_type": "code",
   "execution_count": 56,
   "id": "4ba1aeb2",
   "metadata": {},
   "outputs": [
    {
     "name": "stdout",
     "output_type": "stream",
     "text": [
      "mean_squared_error 2.4309051397110824\n",
      "mean_absolute_error 1.1661329267978424\n",
      "r2_score 0.9194640509502989\n"
     ]
    }
   ],
   "source": [
    "print('mean_squared_error',mean_squared_error(pred,y_test))\n",
    "print('mean_absolute_error',mean_absolute_error(y_test,pred))\n",
    "print('r2_score',r2_score(y_test,pred))"
   ]
  },
  {
   "cell_type": "code",
   "execution_count": 60,
   "id": "7e0b0669",
   "metadata": {},
   "outputs": [
    {
     "name": "stdout",
     "output_type": "stream",
     "text": [
      "[0.88145684 0.91806469 0.92996988 0.82306879 0.89365928]\n",
      "0.889243894546299\n",
      "0.037278740405920247\n"
     ]
    }
   ],
   "source": [
    "score=cross_val_score(en,x,y,cv=5)\n",
    "print(score)\n",
    "print(score.mean())\n",
    "print(score.std())\n"
   ]
  },
  {
   "cell_type": "markdown",
   "id": "40669f29",
   "metadata": {},
   "source": [
    "# support vector machine"
   ]
  },
  {
   "cell_type": "code",
   "execution_count": 61,
   "id": "6a1fc788",
   "metadata": {},
   "outputs": [],
   "source": [
    "from sklearn.svm import SVR"
   ]
  },
  {
   "cell_type": "code",
   "execution_count": 62,
   "id": "65a07faf",
   "metadata": {},
   "outputs": [],
   "source": [
    "svr=SVR()"
   ]
  },
  {
   "cell_type": "code",
   "execution_count": 63,
   "id": "3f019675",
   "metadata": {},
   "outputs": [
    {
     "data": {
      "text/plain": [
       "SVR()"
      ]
     },
     "execution_count": 63,
     "metadata": {},
     "output_type": "execute_result"
    }
   ],
   "source": [
    "svr.fit(x_train,y_train)"
   ]
  },
  {
   "cell_type": "code",
   "execution_count": 64,
   "id": "eade04c9",
   "metadata": {},
   "outputs": [],
   "source": [
    "pred=svr.predict(x_test)"
   ]
  },
  {
   "cell_type": "code",
   "execution_count": 66,
   "id": "3a51baaf",
   "metadata": {},
   "outputs": [
    {
     "name": "stdout",
     "output_type": "stream",
     "text": [
      "mean_squared_error 4.563945346162763\n",
      "mean_absolute_error 1.5072063558772182\n",
      "r2_score 0.848796374708447\n"
     ]
    }
   ],
   "source": [
    "print('mean_squared_error',mean_squared_error(y_test,pred))\n",
    "print('mean_absolute_error',mean_absolute_error(y_test,pred))\n",
    "print('r2_score',r2_score(y_test,pred))"
   ]
  },
  {
   "cell_type": "code",
   "execution_count": 67,
   "id": "40f5df26",
   "metadata": {},
   "outputs": [],
   "source": [
    "score=cross_val_score(svr,x,y,cv=5)"
   ]
  },
  {
   "cell_type": "code",
   "execution_count": 68,
   "id": "2a09c777",
   "metadata": {},
   "outputs": [
    {
     "name": "stdout",
     "output_type": "stream",
     "text": [
      "[0.85316592 0.88027864 0.82461163 0.84955315 0.7850179 ]\n",
      "0.8385254476399322\n",
      "0.0320497551480332\n"
     ]
    }
   ],
   "source": [
    "print(score)\n",
    "print(score.mean())\n",
    "print(score.std())"
   ]
  },
  {
   "cell_type": "markdown",
   "id": "5f32beb9",
   "metadata": {},
   "source": [
    "# Decision Tree Regressor"
   ]
  },
  {
   "cell_type": "code",
   "execution_count": 70,
   "id": "aab683c0",
   "metadata": {},
   "outputs": [],
   "source": [
    "from sklearn.tree import DecisionTreeRegressor"
   ]
  },
  {
   "cell_type": "code",
   "execution_count": 77,
   "id": "243c6973",
   "metadata": {},
   "outputs": [],
   "source": [
    "dtr=DecisionTreeRegressor()"
   ]
  },
  {
   "cell_type": "code",
   "execution_count": 78,
   "id": "caf899ea",
   "metadata": {},
   "outputs": [
    {
     "data": {
      "text/plain": [
       "DecisionTreeRegressor()"
      ]
     },
     "execution_count": 78,
     "metadata": {},
     "output_type": "execute_result"
    }
   ],
   "source": [
    "dtr.fit(x_train,y_train)\n"
   ]
  },
  {
   "cell_type": "code",
   "execution_count": 80,
   "id": "e1a65924",
   "metadata": {},
   "outputs": [],
   "source": [
    "pred=dtr.predict(x_test)"
   ]
  },
  {
   "cell_type": "code",
   "execution_count": 83,
   "id": "8353896b",
   "metadata": {},
   "outputs": [
    {
     "name": "stdout",
     "output_type": "stream",
     "text": [
      "mean_squared_error 1.795500000000001\n",
      "mean_absolute_error 1.0300000000000002\n",
      "r2_score 0.9405150393750351\n"
     ]
    }
   ],
   "source": [
    "print('mean_squared_error',mean_squared_error(y_test,pred))\n",
    "print('mean_absolute_error',mean_absolute_error(y_test,pred))\n",
    "print('r2_score',r2_score(y_test,pred))"
   ]
  },
  {
   "cell_type": "code",
   "execution_count": 85,
   "id": "789a4d7b",
   "metadata": {},
   "outputs": [
    {
     "name": "stdout",
     "output_type": "stream",
     "text": [
      "[0.96542215 0.96022811 0.93695243 0.95547485 0.97017298]\n",
      "0.9576501052942525\n",
      "0.011462973244283902\n"
     ]
    }
   ],
   "source": [
    "score=cross_val_score(dtr,x,y,cv=5)\n",
    "print(score)\n",
    "print(score.mean())\n",
    "print(score.std())"
   ]
  },
  {
   "cell_type": "markdown",
   "id": "60c172b8",
   "metadata": {},
   "source": [
    "# RandomForest Regressor"
   ]
  },
  {
   "cell_type": "code",
   "execution_count": 86,
   "id": "1b9a5e1a",
   "metadata": {},
   "outputs": [],
   "source": [
    "from sklearn.ensemble import RandomForestRegressor"
   ]
  },
  {
   "cell_type": "code",
   "execution_count": 87,
   "id": "44d2c008",
   "metadata": {},
   "outputs": [],
   "source": [
    "rf=RandomForestRegressor()"
   ]
  },
  {
   "cell_type": "code",
   "execution_count": 88,
   "id": "84c47f39",
   "metadata": {},
   "outputs": [
    {
     "data": {
      "text/plain": [
       "RandomForestRegressor()"
      ]
     },
     "execution_count": 88,
     "metadata": {},
     "output_type": "execute_result"
    }
   ],
   "source": [
    "rf.fit(x_train,y_train)"
   ]
  },
  {
   "cell_type": "code",
   "execution_count": 89,
   "id": "a531d382",
   "metadata": {},
   "outputs": [],
   "source": [
    "pred=rf.predict(x_test)"
   ]
  },
  {
   "cell_type": "code",
   "execution_count": 94,
   "id": "374660d3",
   "metadata": {},
   "outputs": [
    {
     "name": "stdout",
     "output_type": "stream",
     "text": [
      "mean_squared_error 0.44764244999999914\n",
      "mean_absolute_error 0.5353999999999989\n",
      "r2 score 0.9848219042975077\n"
     ]
    }
   ],
   "source": [
    "print('mean_squared_error',mean_squared_error(y_test,pred))\n",
    "print('mean_absolute_error',mean_absolute_error(y_test,pred))  \n",
    "print('r2 score',r2_score(pred,y_test))"
   ]
  },
  {
   "cell_type": "code",
   "execution_count": 95,
   "id": "89beab21",
   "metadata": {},
   "outputs": [
    {
     "name": "stdout",
     "output_type": "stream",
     "text": [
      "[0.95590478 0.960712   0.94333855 0.94206943 0.96449967]\n",
      "0.953304884323647\n",
      "0.009083076109610124\n"
     ]
    }
   ],
   "source": [
    "score=cross_val_score(dtr,x,y,cv=5)\n",
    "print(score)\n",
    "print(score.mean())\n",
    "print(score.std())"
   ]
  },
  {
   "cell_type": "markdown",
   "id": "53843d45",
   "metadata": {},
   "source": [
    "# Hyperparameter Tuning"
   ]
  },
  {
   "cell_type": "code",
   "execution_count": 97,
   "id": "9d494ac2",
   "metadata": {},
   "outputs": [],
   "source": [
    "from sklearn.model_selection import GridSearchCV"
   ]
  },
  {
   "cell_type": "code",
   "execution_count": 98,
   "id": "bf78d46d",
   "metadata": {},
   "outputs": [],
   "source": [
    "model=RandomForestRegressor()"
   ]
  },
  {
   "cell_type": "code",
   "execution_count": 104,
   "id": "68482c44",
   "metadata": {},
   "outputs": [],
   "source": [
    "param={'n_estimators':[10,30,50,70,100],'criterion':['mse','mae'],'min_samples_split':[1,2,3,4,5],'min_samples_leaf':[1,2,3,4,5]}"
   ]
  },
  {
   "cell_type": "code",
   "execution_count": 105,
   "id": "2bd5bebb",
   "metadata": {},
   "outputs": [],
   "source": [
    "grid=GridSearchCV(estimator=model,param_grid=param,cv=5)\n"
   ]
  },
  {
   "cell_type": "code",
   "execution_count": 106,
   "id": "7b21f349",
   "metadata": {},
   "outputs": [
    {
     "data": {
      "text/plain": [
       "GridSearchCV(cv=5, estimator=RandomForestRegressor(),\n",
       "             param_grid={'criterion': ['mse', 'mae'],\n",
       "                         'min_samples_leaf': [1, 2, 3, 4, 5],\n",
       "                         'min_samples_split': [1, 2, 3, 4, 5],\n",
       "                         'n_estimators': [10, 30, 50, 70, 100]})"
      ]
     },
     "execution_count": 106,
     "metadata": {},
     "output_type": "execute_result"
    }
   ],
   "source": [
    "grid.fit(x_train,y_train)"
   ]
  },
  {
   "cell_type": "code",
   "execution_count": 108,
   "id": "5ec09631",
   "metadata": {},
   "outputs": [
    {
     "name": "stdout",
     "output_type": "stream",
     "text": [
      "GridSearchCV(cv=5, estimator=RandomForestRegressor(),\n",
      "             param_grid={'criterion': ['mse', 'mae'],\n",
      "                         'min_samples_leaf': [1, 2, 3, 4, 5],\n",
      "                         'min_samples_split': [1, 2, 3, 4, 5],\n",
      "                         'n_estimators': [10, 30, 50, 70, 100]})\n",
      "0.9760107503596446\n",
      "mae\n",
      "{'criterion': 'mae', 'min_samples_leaf': 1, 'min_samples_split': 2, 'n_estimators': 50}\n"
     ]
    }
   ],
   "source": [
    "print(grid)\n",
    "print(grid.best_score_)\n",
    "print(grid.best_estimator_.criterion)\n",
    "print(grid.best_params_)\n"
   ]
  },
  {
   "cell_type": "code",
   "execution_count": 109,
   "id": "c52430c1",
   "metadata": {},
   "outputs": [],
   "source": [
    "import joblib"
   ]
  },
  {
   "cell_type": "code",
   "execution_count": 110,
   "id": "3a015de8",
   "metadata": {},
   "outputs": [
    {
     "data": {
      "text/plain": [
       "['Advertising_sales.obj']"
      ]
     },
     "execution_count": 110,
     "metadata": {},
     "output_type": "execute_result"
    }
   ],
   "source": [
    "joblib.dump(RandomForestRegressor,'Advertising_sales.obj')"
   ]
  },
  {
   "cell_type": "code",
   "execution_count": null,
   "id": "2ab0d0e2",
   "metadata": {},
   "outputs": [],
   "source": []
  }
 ],
 "metadata": {
  "kernelspec": {
   "display_name": "Python 3",
   "language": "python",
   "name": "python3"
  },
  "language_info": {
   "codemirror_mode": {
    "name": "ipython",
    "version": 3
   },
   "file_extension": ".py",
   "mimetype": "text/x-python",
   "name": "python",
   "nbconvert_exporter": "python",
   "pygments_lexer": "ipython3",
   "version": "3.8.8"
  }
 },
 "nbformat": 4,
 "nbformat_minor": 5
}
